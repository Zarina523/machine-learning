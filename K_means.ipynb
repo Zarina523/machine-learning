{
  "nbformat": 4,
  "nbformat_minor": 0,
  "metadata": {
    "colab": {
      "provenance": []
    },
    "kernelspec": {
      "name": "python3",
      "display_name": "Python 3"
    },
    "language_info": {
      "name": "python"
    }
  },
  "cells": [
    {
      "cell_type": "code",
      "execution_count": 15,
      "metadata": {
        "colab": {
          "base_uri": "https://localhost:8080/",
          "height": 1000
        },
        "id": "fc91KPQfrELH",
        "outputId": "3613e937-eedc-47ed-eea7-015b0d3c92fe"
      },
      "outputs": [
        {
          "output_type": "display_data",
          "data": {
            "text/plain": [
              "<Figure size 432x288 with 1 Axes>"
            ],
            "image/png": "[encoded data removed]"
          },
          "metadata": {
            "needs_background": "light"
          }
        },
        {
          "output_type": "stream",
          "name": "stdout",
          "text": [
            "0 Группа [[7, 9], [40, 9], [0, 42], [17, 43], [42, 20], [23, 38], [43, 22], [32, 39], [19, 14], [3, 32], [17, 0], [26, 36], [36, 34], [6, 15], [44, 20], [31, 32], [9, 5], [3, 31], [17, 4], [4, 44], [24, 16], [42, 4], [17, 8], [33, 24], [20, 7], [25, 5], [39, 34], [14, 34], [3, 21], [31, 9], [23, 15], [7, 33], [2, 18], [11, 1], [35, 5], [16, 19], [44, 10], [9, 10], [22, 9]]\n",
            "1 Группа [[49, 35]]\n",
            "2 Группа [[45, 40], [48, 41], [44, 39], [45, 38]]\n",
            "3 Группа [[42, 44], [17, 49], [33, 45], [42, 43], [38, 46], [45, 48]]\n",
            "************************ итерация 1 ****************************\n",
            "0 Группа [[7, 9], [40, 9], [0, 42], [19, 14], [3, 32], [17, 0], [6, 15], [9, 5], [3, 31], [17, 4], [4, 44], [24, 16], [42, 4], [17, 8], [33, 24], [20, 7], [25, 5], [14, 34], [3, 21], [31, 9], [23, 15], [7, 33], [2, 18], [11, 1], [35, 5], [16, 19], [44, 10], [9, 10], [22, 9]]\n",
            "1 Группа [[42, 20], [43, 22], [44, 20], [49, 35]]\n",
            "2 Группа [[45, 40], [48, 41], [42, 44], [36, 34], [42, 43], [44, 39], [45, 38], [45, 48], [39, 34]]\n",
            "3 Группа [[17, 43], [23, 38], [32, 39], [17, 49], [33, 45], [26, 36], [31, 32], [38, 46]]\n",
            "************************ итерация 2 ****************************\n",
            "0 Группа [[7, 9], [19, 14], [3, 32], [17, 0], [6, 15], [9, 5], [3, 31], [17, 4], [24, 16], [17, 8], [20, 7], [25, 5], [3, 21], [31, 9], [23, 15], [7, 33], [2, 18], [11, 1], [35, 5], [16, 19], [9, 10], [22, 9]]\n",
            "1 Группа [[40, 9], [42, 20], [43, 22], [44, 20], [42, 4], [33, 24], [44, 10]]\n",
            "2 Группа [[45, 40], [48, 41], [42, 44], [36, 34], [42, 43], [49, 35], [44, 39], [38, 46], [45, 38], [45, 48], [39, 34]]\n",
            "3 Группа [[0, 42], [17, 43], [23, 38], [32, 39], [17, 49], [33, 45], [26, 36], [31, 32], [4, 44], [14, 34]]\n",
            "************************ итерация 3 ****************************\n",
            "0 Группа [[7, 9], [19, 14], [17, 0], [6, 15], [9, 5], [17, 4], [24, 16], [17, 8], [20, 7], [25, 5], [3, 21], [23, 15], [2, 18], [11, 1], [16, 19], [9, 10], [22, 9]]\n",
            "1 Группа [[40, 9], [42, 20], [43, 22], [44, 20], [42, 4], [33, 24], [31, 9], [35, 5], [44, 10]]\n",
            "2 Группа [[45, 40], [48, 41], [42, 44], [32, 39], [33, 45], [36, 34], [42, 43], [49, 35], [44, 39], [38, 46], [45, 38], [45, 48], [39, 34]]\n",
            "3 Группа [[0, 42], [17, 43], [23, 38], [17, 49], [3, 32], [26, 36], [31, 32], [3, 31], [4, 44], [14, 34], [7, 33]]\n",
            "************************ итерация 4 ****************************\n",
            "0 Группа [[7, 9], [19, 14], [17, 0], [6, 15], [9, 5], [17, 4], [24, 16], [17, 8], [20, 7], [25, 5], [3, 21], [23, 15], [2, 18], [11, 1], [16, 19], [9, 10], [22, 9]]\n",
            "1 Группа [[40, 9], [42, 20], [43, 22], [44, 20], [42, 4], [33, 24], [31, 9], [35, 5], [44, 10]]\n",
            "2 Группа [[45, 40], [48, 41], [42, 44], [32, 39], [33, 45], [36, 34], [42, 43], [31, 32], [49, 35], [44, 39], [38, 46], [45, 38], [45, 48], [39, 34]]\n",
            "3 Группа [[0, 42], [17, 43], [23, 38], [17, 49], [3, 32], [26, 36], [3, 31], [4, 44], [14, 34], [7, 33]]\n",
            "************************ итерация 5 ****************************\n",
            "0 Группа [[7, 9], [19, 14], [17, 0], [6, 15], [9, 5], [17, 4], [24, 16], [17, 8], [20, 7], [25, 5], [3, 21], [23, 15], [2, 18], [11, 1], [16, 19], [9, 10], [22, 9]]\n",
            "1 Группа [[40, 9], [42, 20], [43, 22], [44, 20], [42, 4], [33, 24], [31, 9], [35, 5], [44, 10]]\n",
            "2 Группа [[45, 40], [48, 41], [42, 44], [32, 39], [33, 45], [36, 34], [42, 43], [31, 32], [49, 35], [44, 39], [38, 46], [45, 38], [45, 48], [39, 34]]\n",
            "3 Группа [[0, 42], [17, 43], [23, 38], [17, 49], [3, 32], [26, 36], [3, 31], [4, 44], [14, 34], [7, 33]]\n",
            "************************ итерация 6 ****************************\n",
            "Конец\n",
            "Средняя точка группы 0 [14.52941176 10.35294118]\n",
            "Средняя точка группы 1 [39.33333333 13.66666667]\n",
            "Средняя точка группы 2 [40.64285714 39.85714286]\n",
            "Средняя точка группы 3 [11.4 38.2]\n"
          ]
        },
        {
          "output_type": "display_data",
          "data": {
            "text/plain": [
              "<Figure size 432x288 with 1 Axes>"
            ],
            "image/png": "[encoded data removed]"
          },
          "metadata": {
            "needs_background": "light"
          }
        }
      ],
      "source": [
        "import numpy as np\n",
        "import matplotlib.pyplot as plt\n",
        "\n",
        "flag = 0\n",
        "\n",
        "def ecludDist(x, y):\n",
        "    return np.sqrt(sum(np.square(np.array(x) - np.array(y))))\n",
        "\n",
        "\n",
        "def clusterMean(dataset):\n",
        "    return sum(np.array(dataset)) / len(dataset)\n",
        "\n",
        "def randCenter(dataset, k):\n",
        "    temp = []\n",
        "    while len(temp) < k:\n",
        "        index = np.random.randint(0, len(dataset)-1)\n",
        "        if  index not in temp:\n",
        "            temp.append(index)\n",
        "    return np.array([dataset[i] for i in temp])\n",
        "\n",
        "\n",
        "def kMeans(dataset, dist, center, k):\n",
        "    global flag\n",
        "    #all_kinds используется для хранения промежуточных результатов расчета\n",
        "    all_kinds = []\n",
        "    for _ in range(k):\n",
        "        temp = []\n",
        "        all_kinds.append(temp)\n",
        "    # Рассчитать расстояние от каждой точки до каждой средней точки  \n",
        "    for i in dataset:\n",
        "        temp = []\n",
        "        for j in center:\n",
        "            temp.append(dist(i, j))\n",
        "        all_kinds[temp.index(min(temp))].append(i)\n",
        "    # Печать промежуточных результатов    \n",
        "    for i in range(k):\n",
        "        print(str(i)+\" Группа\", all_kinds[i], end='\\n')\n",
        "    flag += 1\n",
        "    print(\"************************ итерация \"+str(flag)+' ****************************')\n",
        "    # Обновление средней точки\n",
        "    center_ = np.array([clusterMean(i) for i in all_kinds])\n",
        "    if (center_ == center).all():\n",
        "        print('Конец')\n",
        "        for i in range(k):\n",
        "            print(\"Средняя точка группы \"+str(i), center_[i], end='\\n')\n",
        "            plt.scatter([j[0] for j in all_kinds[i]], [j[1] for j in all_kinds[i]], marker='*')\n",
        "        plt.grid()\n",
        "        plt.show()\n",
        "    else:\n",
        "        # Рекурсивно вызывать функцию kMeans\n",
        "        center = center_\n",
        "        kMeans(dataset, dist, center, k)\n",
        "\n",
        "def main(k):\n",
        "    '' 'Генерация случайных точек' '' \n",
        "    x = [np.random.randint(0, 50) for _ in range(50)]\n",
        "    y = [np.random.randint(0, 50) for _ in range(50)]\n",
        "    points = [[i,j] for i, j in zip(x, y)]\n",
        "    plt.plot(x, y, 'b.')\n",
        "    plt.show()\n",
        "    initial_center = randCenter(dataset=points, k=k)\n",
        "    kMeans(dataset=points, dist=ecludDist, center=initial_center, k=k)\n",
        "\n",
        "if __name__ == '__main__':\n",
        "    main(4) "
      ]
    }
  ]
}